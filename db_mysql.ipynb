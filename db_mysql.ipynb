{
 "cells": [
  {
   "cell_type": "code",
   "execution_count": 34,
   "metadata": {},
   "outputs": [],
   "source": [
    "%run hashing.ipynb"
   ]
  },
  {
   "cell_type": "code",
   "execution_count": 35,
   "metadata": {},
   "outputs": [],
   "source": [
    "import pymysql\n",
    "\n",
    "#database connection\n",
    "connection = pymysql.connect(host=\"localhost\",user=\"rahul\",passwd=\"rahul\",database=\"test\" )\n",
    "cursor = connection.cursor()\n",
    "# some other statements  with the help of cursor\n",
    "#connection.close()"
   ]
  },
  {
   "cell_type": "code",
   "execution_count": 2,
   "metadata": {},
   "outputs": [],
   "source": [
    "\n",
    "\n",
    "# # queries for inserting values\n",
    "# insert1 = \"INSERT INTO data(name, course) VALUES('Towang', 'B.Tech CSE' );\"\n",
    "# # insert2 = \"INSERT INTO data(name, course) VALUES('Sadduz', 'B.Tech CSE' );\"\n",
    "\n",
    "# #executing the quires\n",
    "# cursor.execute(insert1)\n",
    "# # cursor.execute(insert2)\n",
    "\n",
    "\n",
    "# #commiting the connection then closing it.\n",
    "# connection.commit()\n"
   ]
  },
  {
   "cell_type": "code",
   "execution_count": 29,
   "metadata": {},
   "outputs": [],
   "source": [
    "\n",
    "def show():\n",
    "    retrive = \"Select * from data;\"\n",
    "    #executing the quires\n",
    "    cursor.execute(retrive)\n",
    "    rows = cursor.fetchall()\n",
    "    for row in rows:\n",
    "        print(row[1])\n",
    "        #commiting the connection then closing it.\n",
    "    connection.commit()"
   ]
  },
  {
   "cell_type": "code",
   "execution_count": 15,
   "metadata": {},
   "outputs": [
    {
     "data": {
      "text/plain": [
       "'Echo 1 when the query is performed'"
      ]
     },
     "execution_count": 15,
     "metadata": {},
     "output_type": "execute_result"
    }
   ],
   "source": [
    "\n",
    "updateSql = \"UPDATE data SET name='Rahul Shyokand'  WHERE id = 1 ;\"\n",
    "cursor.execute(updateSql)\n",
    "connection.commit()\n",
    "\n",
    "'''Echo 1 when the query is performed'''"
   ]
  },
  {
   "cell_type": "code",
   "execution_count": 18,
   "metadata": {},
   "outputs": [],
   "source": [
    "deleteSql = \"DELETE FROM data WHERE id = 2; \"\n",
    "cursor.execute(deleteSql )\n",
    "connection.commit()"
   ]
  },
  {
   "cell_type": "code",
   "execution_count": 23,
   "metadata": {},
   "outputs": [],
   "source": [
    "def insertNewUser(NAME , COURSE):\n",
    "    # queries for inserting values\n",
    "    insert = \"\"\"INSERT INTO data (name, course) \n",
    "                                VALUES (%s, %s) \"\"\"\n",
    "    record =  (NAME, COURSE)\n",
    "    cursor.execute(insert, record)\n",
    "    #commiting the connection then closing it.\n",
    "    connection.commit()\n",
    "    "
   ]
  },
  {
   "cell_type": "code",
   "execution_count": 24,
   "metadata": {},
   "outputs": [],
   "source": [
    "insertNewUser(\"asdf\",\"asdf\")\n"
   ]
  },
  {
   "cell_type": "code",
   "execution_count": 30,
   "metadata": {},
   "outputs": [
    {
     "name": "stdout",
     "output_type": "stream",
     "text": [
      "Rahul Shyokand\n",
      "asdf\n"
     ]
    }
   ],
   "source": [
    "show()"
   ]
  },
  {
   "cell_type": "code",
   "execution_count": 3,
   "metadata": {},
   "outputs": [],
   "source": [
    "connection.close()"
   ]
  },
  {
   "cell_type": "code",
   "execution_count": null,
   "metadata": {},
   "outputs": [],
   "source": []
  }
 ],
 "metadata": {
  "kernelspec": {
   "display_name": "Python 3",
   "language": "python",
   "name": "python3"
  },
  "language_info": {
   "codemirror_mode": {
    "name": "ipython",
    "version": 3
   },
   "file_extension": ".py",
   "mimetype": "text/x-python",
   "name": "python",
   "nbconvert_exporter": "python",
   "pygments_lexer": "ipython3",
   "version": "3.6.8"
  }
 },
 "nbformat": 4,
 "nbformat_minor": 2
}
