{
 "cells": [
  {
   "cell_type": "code",
   "execution_count": 4,
   "metadata": {},
   "outputs": [],
   "source": [
    "\n",
    "import pymysql\n",
    "\n",
    "#database connection\n",
    "connection = pymysql.connect(host=\"localhost\",user=\"rahul\",passwd=\"rahul\",database=\"test\" )\n",
    "cursor = connection.cursor()\n",
    "# some other statements  with the help of cursor\n",
    "#connection.close()"
   ]
  },
  {
   "cell_type": "code",
   "execution_count": 2,
   "metadata": {},
   "outputs": [],
   "source": [
    "\n",
    "\n",
    "# queries for inserting values\n",
    "insert1 = \"INSERT INTO data(name, course) VALUES('Towang', 'B.Tech CSE' );\"\n",
    "# insert2 = \"INSERT INTO data(name, course) VALUES('Sadduz', 'B.Tech CSE' );\"\n",
    "\n",
    "#executing the quires\n",
    "cursor.execute(insert1)\n",
    "# cursor.execute(insert2)\n",
    "\n",
    "\n",
    "#commiting the connection then closing it.\n",
    "connection.commit()\n"
   ]
  },
  {
   "cell_type": "code",
   "execution_count": 9,
   "metadata": {},
   "outputs": [
    {
     "name": "stdout",
     "output_type": "stream",
     "text": [
      "Towang\n",
      "Sadduz\n"
     ]
    }
   ],
   "source": [
    "# queries for retrievint all rows\n",
    "retrive = \"Select * from data;\"\n",
    "\n",
    "#executing the quires\n",
    "cursor.execute(retrive)\n",
    "rows = cursor.fetchall()\n",
    "for row in rows:\n",
    "   print(row[1])\n",
    "\n",
    "\n",
    "#commiting the connection then closing it.\n",
    "connection.commit()"
   ]
  },
  {
   "cell_type": "code",
   "execution_count": 10,
   "metadata": {},
   "outputs": [
    {
     "data": {
      "text/plain": [
       "1"
      ]
     },
     "execution_count": 10,
     "metadata": {},
     "output_type": "execute_result"
    }
   ],
   "source": [
    "\n",
    "updateSql = \"UPDATE  data SET NAME= 'Rahul Shyokand'  WHERE ID = '1' ;\"\n",
    "cursor.execute(updateSql  )\n",
    "'''Echo 1 when the query is performed'''"
   ]
  },
  {
   "cell_type": "code",
   "execution_count": 3,
   "metadata": {},
   "outputs": [],
   "source": [
    "connection.close()"
   ]
  }
 ],
 "metadata": {
  "kernelspec": {
   "display_name": "Python 3",
   "language": "python",
   "name": "python3"
  },
  "language_info": {
   "codemirror_mode": {
    "name": "ipython",
    "version": 3
   },
   "file_extension": ".py",
   "mimetype": "text/x-python",
   "name": "python",
   "nbconvert_exporter": "python",
   "pygments_lexer": "ipython3",
   "version": "3.6.8"
  }
 },
 "nbformat": 4,
 "nbformat_minor": 2
}
