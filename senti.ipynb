{
 "cells": [
  {
   "cell_type": "code",
   "execution_count": 1,
   "metadata": {},
   "outputs": [],
   "source": [
    "# filter with good keywords \n",
    "# import tweepy\n",
    "# import textblob\n",
    "# #Step 4 Perform Sentiment Analysis on Tweets\n",
    "# analysis = \"great\"\n",
    "# print(analysis.sentiment)\n"
   ]
  },
  {
   "cell_type": "code",
   "execution_count": 2,
   "metadata": {},
   "outputs": [
    {
     "name": "stdout",
     "output_type": "stream",
     "text": [
      "good\n",
      "great\n",
      "thanks\n",
      "nice\n"
     ]
    }
   ],
   "source": [
    "type_of_response = {}\n",
    "#captains[\"Enterprise\"] = \"Kirk\"\n",
    "\n",
    "type_of_response['positive'] =['good','great','thanks','nice']\n",
    "type_of_response['negative'] =['bad','worst','not','flop']\n",
    "'''For getting category'''\n",
    "# for category in type_of_response:\n",
    "#     print(category)\n",
    "    \n",
    "# for category in type_of_response.values():\n",
    "#     print(category)\n",
    "    \n",
    "for senti in type_of_response['positive']:\n",
    "    print(senti)\n",
    "    \n",
    "# for senti in type_of_response['negative']:\n",
    "#     print(senti)\n",
    "    \n",
    "# for plus_minus,sentiment in type_of_response.items():\n",
    "#     print(plus_minus ,\"====\",sentiment )\n",
    "    \n",
    "    "
   ]
  },
  {
   "cell_type": "code",
   "execution_count": 3,
   "metadata": {},
   "outputs": [
    {
     "name": "stdout",
     "output_type": "stream",
     "text": [
      "['nice', 'work', 'man']\n"
     ]
    },
    {
     "data": {
      "text/plain": [
       "'work'"
      ]
     },
     "execution_count": 3,
     "metadata": {},
     "output_type": "execute_result"
    }
   ],
   "source": [
    "test = \"nice work man\"\n",
    "test_list = test.split()\n",
    "print(test_list)\n",
    "test_list[1]"
   ]
  },
  {
   "cell_type": "code",
   "execution_count": null,
   "metadata": {},
   "outputs": [
    {
     "name": "stdout",
     "output_type": "stream",
     "text": [
      "Enter the Feedback :  nice\n",
      "Postive Feedback\n",
      "Enter the Feedback :  bad\n",
      "Negative Feedback\n"
     ]
    }
   ],
   "source": [
    "while(1):\n",
    "    feedback=input(\"Enter the Feedback :  \")\n",
    "    feedback=feedback.split()\n",
    "    found = False\n",
    "    for senti in type_of_response['negative']:\n",
    "        for x in feedback:\n",
    "            if str(x) == str(senti):\n",
    "                print(\"Negative Feedback\")\n",
    "                found =True\n",
    "    for senti in type_of_response['positive']:\n",
    "        for x in feedback:\n",
    "            if str(x) == str(senti):\n",
    "                print(\"Postive Feedback\")\n",
    "                found = True\n",
    "    if(found==False):\n",
    "        print(\"Could not match with dictionary\")\n",
    "   "
   ]
  },
  {
   "cell_type": "code",
   "execution_count": null,
   "metadata": {},
   "outputs": [],
   "source": []
  },
  {
   "cell_type": "code",
   "execution_count": null,
   "metadata": {},
   "outputs": [],
   "source": []
  }
 ],
 "metadata": {
  "kernelspec": {
   "display_name": "Python 3",
   "language": "python",
   "name": "python3"
  },
  "language_info": {
   "codemirror_mode": {
    "name": "ipython",
    "version": 3
   },
   "file_extension": ".py",
   "mimetype": "text/x-python",
   "name": "python",
   "nbconvert_exporter": "python",
   "pygments_lexer": "ipython3",
   "version": "3.6.8"
  }
 },
 "nbformat": 4,
 "nbformat_minor": 2
}
